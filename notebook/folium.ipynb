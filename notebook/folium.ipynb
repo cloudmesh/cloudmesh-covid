{
 "nbformat": 4,
 "nbformat_minor": 0,
 "metadata": {
  "colab": {
   "name": "folium.ipynb",
   "provenance": [],
   "collapsed_sections": []
  },
  "kernelspec": {
   "name": "python3",
   "language": "python",
   "display_name": "Python 3"
  }
 },
 "cells": [
  {
   "cell_type": "markdown",
   "metadata": {
    "id": "S1pMJOoZHe7I"
   },
   "source": [
    "Gregor von Laszewski, laszewski@gmail.com\n",
    "\n",
    "This notebook is on colab at\n",
    "\n",
    "https://colab.research.google.com/drive/1JnInHMrUXo6KSSv9xFSkn-6E379yHfWY?usp=sharing\n",
    "\n",
    "It is originated from\n",
    "\n",
    "https://towardsdatascience.com/creating-a-simple-folium-map-covid-19-worldwide-total-case-a0a1429c6e7c\n",
    "\n",
    "However, it contains a library for getting the data and displaying it. This way the notebook\n",
    "can be kept as a minimum."
   ]
  },
  {
   "cell_type": "markdown",
   "metadata": {
    "id": "8nJOc77NF2Cu",
    "pycharm": {
     "name": "#%% md\n"
    }
   },
   "source": [
    "Todo: convert this script from folium to bokeh"
   ]
  },
  {
   "cell_type": "code",
   "metadata": {
    "id": "RldQjptLoX8_",
    "outputId": "b40619a3-1624-4a9f-a408-4bf9ef795917",
    "colab": {
     "base_uri": "https://localhost:8080/",
     "height": 208
    }
   },
   "source": [
    "! pip install folium"
   ],
   "execution_count": 1,
   "outputs": [
    {
     "name": "stdout",
     "output_type": "stream",
     "text": [
      "Requirement already satisfied: folium in /home/blue/ENV38/lib/python3.8/site-packages (0.11.0)\r\n",
      "Requirement already satisfied: jinja2>=2.9 in /home/blue/ENV38/lib/python3.8/site-packages (from folium) (2.11.2)\r\n",
      "Requirement already satisfied: numpy in /home/blue/ENV38/lib/python3.8/site-packages (from folium) (1.18.5)\r\n",
      "Requirement already satisfied: branca>=0.3.0 in /home/blue/ENV38/lib/python3.8/site-packages (from folium) (0.4.1)\r\n",
      "Requirement already satisfied: requests in /home/blue/ENV38/lib/python3.8/site-packages (from folium) (2.24.0)\r\n",
      "Requirement already satisfied: MarkupSafe>=0.23 in /home/blue/ENV38/lib/python3.8/site-packages (from jinja2>=2.9->folium) (1.1.1)\r\n",
      "Requirement already satisfied: certifi>=2017.4.17 in /home/blue/ENV38/lib/python3.8/site-packages (from requests->folium) (2020.6.20)\r\n",
      "Requirement already satisfied: urllib3!=1.25.0,!=1.25.1,<1.26,>=1.21.1 in /home/blue/ENV38/lib/python3.8/site-packages (from requests->folium) (1.25.9)\r\n",
      "Requirement already satisfied: chardet<4,>=3.0.2 in /home/blue/ENV38/lib/python3.8/site-packages (from requests->folium) (3.0.4)\r\n",
      "Requirement already satisfied: idna<3,>=2.5 in /home/blue/ENV38/lib/python3.8/site-packages (from requests->folium) (2.9)\r\n"
     ]
    }
   ]
  },
  {
   "cell_type": "code",
   "execution_count": 2,
   "outputs": [
    {
     "name": "stdout",
     "output_type": "stream",
     "text": [
      "Requirement already up-to-date: cloudmesh-covid in /home/blue/ENV38/lib/python3.8/site-packages (4.4.7)\r\n",
      "Requirement already satisfied, skipping upgrade: psutil in /home/blue/ENV38/lib/python3.8/site-packages (from cloudmesh-covid) (5.7.0)\r\n",
      "Requirement already satisfied, skipping upgrade: pygments in /home/blue/ENV38/lib/python3.8/site-packages (from cloudmesh-covid) (2.6.1)\r\n"
     ]
    }
   ],
   "source": [
    "! pip install cloudmesh-covid -U"
   ],
   "metadata": {
    "collapsed": false,
    "pycharm": {
     "name": "#%%\n"
    }
   }
  },
  {
   "cell_type": "code",
   "metadata": {
    "id": "tR645bd_oRQz"
   },
   "source": [
    "import folium\n",
    "import requests\n",
    "import pandas as pd\n",
    "import numpy as np\n",
    "from pprint import pprint"
   ],
   "execution_count": 3,
   "outputs": []
  },
  {
   "cell_type": "code",
   "execution_count": 4,
   "outputs": [],
   "source": [
    "from cloudmesh.covid.data.world import get_covid_data\n",
    "from cloudmesh.covid.data.world import plot_map\n",
    "from cloudmesh.covid.data.world import add_log"
   ],
   "metadata": {
    "collapsed": false,
    "pycharm": {
     "name": "#%%\n"
    }
   }
  },
  {
   "cell_type": "code",
   "metadata": {
    "id": "K7-mLqYtqRPA",
    "outputId": "54fb5ef2-f668-4691-fc0d-8dd2625d2165",
    "colab": {
     "base_uri": "https://localhost:8080/",
     "height": 424
    }
   },
   "source": [
    "\n",
    "df = get_covid_data()\n",
    "df"
   ],
   "execution_count": 5,
   "outputs": [
    {
     "data": {
      "text/plain": "                  country code  total_cases  total_recovered  \\\n1             Afghanistan   AF        39290            32842   \n2                 Albania   AL        13965             8342   \n3                 Algeria   DZ        51690            36282   \n4                  Angola   AO         5114             2082   \n5               Argentina   AR       765002           603140   \n..                    ...  ...          ...              ...   \n178                  Iran   IR       464596           385264   \n179           North Korea   KP            0                0   \n180                Russia   RU      1194643           970296   \n181  United Arab Emirates   AE        96529            86071   \n182               Vietnam   VN         1095             1020   \n\n     total_unresolved  total_deaths  total_new_cases_today  \\\n1                   0          1458                      5   \n2                   0           389                    159   \n3                   0          1741                      0   \n4                   0           185                      0   \n5                   0         20288                      0   \n..                ...           ...                    ...   \n178                 0         26567                   3552   \n179                 0             0                      0   \n180                 0         21077                   9412   \n181                 0           424                   1181   \n182                 0            35                      0   \n\n     total_new_deaths_today  total_active_cases  total_serious_cases  \n1                         0                   0                 4990  \n2                         1                 265                 5234  \n3                         0                   0                13667  \n4                         0                   0                 2847  \n5                         0                   0               141574  \n..                      ...                 ...                  ...  \n178                     187                1896                52765  \n179                       0                   0                    0  \n180                     186                6054               203270  \n181                       3                1168                10034  \n182                       0                  10                   40  \n\n[182 rows x 10 columns]",
      "text/html": "<div>\n<style scoped>\n    .dataframe tbody tr th:only-of-type {\n        vertical-align: middle;\n    }\n\n    .dataframe tbody tr th {\n        vertical-align: top;\n    }\n\n    .dataframe thead th {\n        text-align: right;\n    }\n</style>\n<table border=\"1\" class=\"dataframe\">\n  <thead>\n    <tr style=\"text-align: right;\">\n      <th></th>\n      <th>country</th>\n      <th>code</th>\n      <th>total_cases</th>\n      <th>total_recovered</th>\n      <th>total_unresolved</th>\n      <th>total_deaths</th>\n      <th>total_new_cases_today</th>\n      <th>total_new_deaths_today</th>\n      <th>total_active_cases</th>\n      <th>total_serious_cases</th>\n    </tr>\n  </thead>\n  <tbody>\n    <tr>\n      <th>1</th>\n      <td>Afghanistan</td>\n      <td>AF</td>\n      <td>39290</td>\n      <td>32842</td>\n      <td>0</td>\n      <td>1458</td>\n      <td>5</td>\n      <td>0</td>\n      <td>0</td>\n      <td>4990</td>\n    </tr>\n    <tr>\n      <th>2</th>\n      <td>Albania</td>\n      <td>AL</td>\n      <td>13965</td>\n      <td>8342</td>\n      <td>0</td>\n      <td>389</td>\n      <td>159</td>\n      <td>1</td>\n      <td>265</td>\n      <td>5234</td>\n    </tr>\n    <tr>\n      <th>3</th>\n      <td>Algeria</td>\n      <td>DZ</td>\n      <td>51690</td>\n      <td>36282</td>\n      <td>0</td>\n      <td>1741</td>\n      <td>0</td>\n      <td>0</td>\n      <td>0</td>\n      <td>13667</td>\n    </tr>\n    <tr>\n      <th>4</th>\n      <td>Angola</td>\n      <td>AO</td>\n      <td>5114</td>\n      <td>2082</td>\n      <td>0</td>\n      <td>185</td>\n      <td>0</td>\n      <td>0</td>\n      <td>0</td>\n      <td>2847</td>\n    </tr>\n    <tr>\n      <th>5</th>\n      <td>Argentina</td>\n      <td>AR</td>\n      <td>765002</td>\n      <td>603140</td>\n      <td>0</td>\n      <td>20288</td>\n      <td>0</td>\n      <td>0</td>\n      <td>0</td>\n      <td>141574</td>\n    </tr>\n    <tr>\n      <th>...</th>\n      <td>...</td>\n      <td>...</td>\n      <td>...</td>\n      <td>...</td>\n      <td>...</td>\n      <td>...</td>\n      <td>...</td>\n      <td>...</td>\n      <td>...</td>\n      <td>...</td>\n    </tr>\n    <tr>\n      <th>178</th>\n      <td>Iran</td>\n      <td>IR</td>\n      <td>464596</td>\n      <td>385264</td>\n      <td>0</td>\n      <td>26567</td>\n      <td>3552</td>\n      <td>187</td>\n      <td>1896</td>\n      <td>52765</td>\n    </tr>\n    <tr>\n      <th>179</th>\n      <td>North Korea</td>\n      <td>KP</td>\n      <td>0</td>\n      <td>0</td>\n      <td>0</td>\n      <td>0</td>\n      <td>0</td>\n      <td>0</td>\n      <td>0</td>\n      <td>0</td>\n    </tr>\n    <tr>\n      <th>180</th>\n      <td>Russia</td>\n      <td>RU</td>\n      <td>1194643</td>\n      <td>970296</td>\n      <td>0</td>\n      <td>21077</td>\n      <td>9412</td>\n      <td>186</td>\n      <td>6054</td>\n      <td>203270</td>\n    </tr>\n    <tr>\n      <th>181</th>\n      <td>United Arab Emirates</td>\n      <td>AE</td>\n      <td>96529</td>\n      <td>86071</td>\n      <td>0</td>\n      <td>424</td>\n      <td>1181</td>\n      <td>3</td>\n      <td>1168</td>\n      <td>10034</td>\n    </tr>\n    <tr>\n      <th>182</th>\n      <td>Vietnam</td>\n      <td>VN</td>\n      <td>1095</td>\n      <td>1020</td>\n      <td>0</td>\n      <td>35</td>\n      <td>0</td>\n      <td>0</td>\n      <td>10</td>\n      <td>40</td>\n    </tr>\n  </tbody>\n</table>\n<p>182 rows × 10 columns</p>\n</div>"
     },
     "execution_count": 5,
     "metadata": {},
     "output_type": "execute_result"
    }
   ]
  },
  {
   "cell_type": "code",
   "metadata": {
    "id": "Ge5A5mrTxbe9",
    "outputId": "f61d4a8b-10d0-4227-a01c-08ffda42eae4",
    "colab": {
     "base_uri": "https://localhost:8080/",
     "height": 424
    }
   },
   "source": [
    "\n",
    "data = df[[\"country\", \"total_cases\"]]\n",
    "data = data.sort_values(by='total_cases', ascending=False, na_position='first')\n",
    "\n",
    "data"
   ],
   "execution_count": 6,
   "outputs": [
    {
     "data": {
      "text/plain": "                              country  total_cases\n164          United States of America      7520529\n72                              India      6438968\n20                             Brazil      4856024\n180                            Russia      1194643\n32                           Colombia       835339\n..                                ...          ...\n87                               Laos            0\n179                       North Korea            0\n83                              Korea            0\n34   Democratic Republic of the Congo            0\n167                           Vanuatu            0\n\n[182 rows x 2 columns]",
      "text/html": "<div>\n<style scoped>\n    .dataframe tbody tr th:only-of-type {\n        vertical-align: middle;\n    }\n\n    .dataframe tbody tr th {\n        vertical-align: top;\n    }\n\n    .dataframe thead th {\n        text-align: right;\n    }\n</style>\n<table border=\"1\" class=\"dataframe\">\n  <thead>\n    <tr style=\"text-align: right;\">\n      <th></th>\n      <th>country</th>\n      <th>total_cases</th>\n    </tr>\n  </thead>\n  <tbody>\n    <tr>\n      <th>164</th>\n      <td>United States of America</td>\n      <td>7520529</td>\n    </tr>\n    <tr>\n      <th>72</th>\n      <td>India</td>\n      <td>6438968</td>\n    </tr>\n    <tr>\n      <th>20</th>\n      <td>Brazil</td>\n      <td>4856024</td>\n    </tr>\n    <tr>\n      <th>180</th>\n      <td>Russia</td>\n      <td>1194643</td>\n    </tr>\n    <tr>\n      <th>32</th>\n      <td>Colombia</td>\n      <td>835339</td>\n    </tr>\n    <tr>\n      <th>...</th>\n      <td>...</td>\n      <td>...</td>\n    </tr>\n    <tr>\n      <th>87</th>\n      <td>Laos</td>\n      <td>0</td>\n    </tr>\n    <tr>\n      <th>179</th>\n      <td>North Korea</td>\n      <td>0</td>\n    </tr>\n    <tr>\n      <th>83</th>\n      <td>Korea</td>\n      <td>0</td>\n    </tr>\n    <tr>\n      <th>34</th>\n      <td>Democratic Republic of the Congo</td>\n      <td>0</td>\n    </tr>\n    <tr>\n      <th>167</th>\n      <td>Vanuatu</td>\n      <td>0</td>\n    </tr>\n  </tbody>\n</table>\n<p>182 rows × 2 columns</p>\n</div>"
     },
     "execution_count": 6,
     "metadata": {},
     "output_type": "execute_result"
    }
   ]
  },
  {
   "cell_type": "code",
   "metadata": {
    "id": "Qm3TcIwN4vYA",
    "outputId": "7b3f4744-478a-4e9e-bd29-011f79a38b3a",
    "colab": {
     "base_uri": "https://localhost:8080/",
     "height": 382
    }
   },
   "source": [
    "print(data['total_cases'].values)"
   ],
   "execution_count": 7,
   "outputs": [
    {
     "name": "stdout",
     "output_type": "stream",
     "text": [
      "[7520529 6438968 4856024 1194643  835339  818297  810807  765002  748315\n",
      "  676084  589653  467146  466590  464596  372259  366383  335578  321512\n",
      "  319908  316678  313431  297864  295499  258920  217661  162320  138584\n",
      "  135716  132001  127922  126164  126044  121059  113350  113342  108044\n",
      "  106087  103317   98585   96529   95773   94283   93090   85424   84215\n",
      "   82450   79421   77598   77284   76988   76828   76029   76017   59001\n",
      "   57794   57454   55016   54384   51690   51382   47056   46656   46374\n",
      "   42173   41799   40766   40453   39290   38923   37063   35717   33735\n",
      "   29175   28932   28631   27975   27109   21096   20838   19755   19721\n",
      "   19346   18363   17160   16493   15525   15051   14830   14149   13965\n",
      "   13653   13650   11771   11690   11617   11373   10652   10244    9968\n",
      "    9852    8979    8781    8766    8709    8491    7850    7505    7093\n",
      "    6704    6593    6103    5779    5670    5417    5170    5114    5105\n",
      "    5089    5045    4956    4891    4843    4613    4220    3593    3584\n",
      "    3575    3507    3388    3172    3131    2929    2809    2715    2357\n",
      "    2324    2238    2088    2061    2039    2026    1945    1848    1809\n",
      "    1789    1680    1343    1203    1197    1095     712     539     515\n",
      "     510     509     381     313     282     278     146      39      32\n",
      "      28      27      14      13      10       1       0       0       0\n",
      "       0       0       0       0       0       0       0       0       0\n",
      "       0       0]\n"
     ]
    }
   ]
  },
  {
   "cell_type": "code",
   "metadata": {
    "id": "-SW0atqa3Qx3",
    "outputId": "5de52e9e-76d6-419f-90fc-d0ace7b728e9",
    "colab": {
     "base_uri": "https://localhost:8080/",
     "height": 278
    }
   },
   "source": [
    "ax = data.head(20).plot.barh(x='country', y='total_cases')\n"
   ],
   "execution_count": 8,
   "outputs": [
    {
     "data": {
      "text/plain": "<Figure size 432x288 with 1 Axes>",
      "image/png": "[encoded data removed]"
     },
     "metadata": {
      "needs_background": "light"
     },
     "output_type": "display_data"
    }
   ]
  },
  {
   "cell_type": "code",
   "execution_count": 9,
   "outputs": [
    {
     "data": {
      "text/plain": "                  country code  total_cases  total_recovered  \\\n1             Afghanistan   AF        39290            32842   \n2                 Albania   AL        13965             8342   \n3                 Algeria   DZ        51690            36282   \n4                  Angola   AO         5114             2082   \n5               Argentina   AR       765002           603140   \n..                    ...  ...          ...              ...   \n178                  Iran   IR       464596           385264   \n179           North Korea   KP            0                0   \n180                Russia   RU      1194643           970296   \n181  United Arab Emirates   AE        96529            86071   \n182               Vietnam   VN         1095             1020   \n\n     total_unresolved  total_deaths  total_new_cases_today  \\\n1                   0          1458                      5   \n2                   0           389                    159   \n3                   0          1741                      0   \n4                   0           185                      0   \n5                   0         20288                      0   \n..                ...           ...                    ...   \n178                 0         26567                   3552   \n179                 0             0                      0   \n180                 0         21077                   9412   \n181                 0           424                   1181   \n182                 0            35                      0   \n\n     total_new_deaths_today  total_active_cases  total_serious_cases  \\\n1                         0                   0                 4990   \n2                         1                 265                 5234   \n3                         0                   0                13667   \n4                         0                   0                 2847   \n5                         0                   0               141574   \n..                      ...                 ...                  ...   \n178                     187                1896                52765   \n179                       0                   0                    0   \n180                     186                6054               203270   \n181                       3                1168                10034   \n182                       0                  10                   40   \n\n     log_total_cases  log_total_deaths  \n1                 15                10  \n2                 13                 8  \n3                 15                10  \n4                 12                 7  \n5                 19                14  \n..               ...               ...  \n178               18                14  \n179                0                 0  \n180               20                14  \n181               16                 8  \n182               10                 5  \n\n[182 rows x 12 columns]",
      "text/html": "<div>\n<style scoped>\n    .dataframe tbody tr th:only-of-type {\n        vertical-align: middle;\n    }\n\n    .dataframe tbody tr th {\n        vertical-align: top;\n    }\n\n    .dataframe thead th {\n        text-align: right;\n    }\n</style>\n<table border=\"1\" class=\"dataframe\">\n  <thead>\n    <tr style=\"text-align: right;\">\n      <th></th>\n      <th>country</th>\n      <th>code</th>\n      <th>total_cases</th>\n      <th>total_recovered</th>\n      <th>total_unresolved</th>\n      <th>total_deaths</th>\n      <th>total_new_cases_today</th>\n      <th>total_new_deaths_today</th>\n      <th>total_active_cases</th>\n      <th>total_serious_cases</th>\n      <th>log_total_cases</th>\n      <th>log_total_deaths</th>\n    </tr>\n  </thead>\n  <tbody>\n    <tr>\n      <th>1</th>\n      <td>Afghanistan</td>\n      <td>AF</td>\n      <td>39290</td>\n      <td>32842</td>\n      <td>0</td>\n      <td>1458</td>\n      <td>5</td>\n      <td>0</td>\n      <td>0</td>\n      <td>4990</td>\n      <td>15</td>\n      <td>10</td>\n    </tr>\n    <tr>\n      <th>2</th>\n      <td>Albania</td>\n      <td>AL</td>\n      <td>13965</td>\n      <td>8342</td>\n      <td>0</td>\n      <td>389</td>\n      <td>159</td>\n      <td>1</td>\n      <td>265</td>\n      <td>5234</td>\n      <td>13</td>\n      <td>8</td>\n    </tr>\n    <tr>\n      <th>3</th>\n      <td>Algeria</td>\n      <td>DZ</td>\n      <td>51690</td>\n      <td>36282</td>\n      <td>0</td>\n      <td>1741</td>\n      <td>0</td>\n      <td>0</td>\n      <td>0</td>\n      <td>13667</td>\n      <td>15</td>\n      <td>10</td>\n    </tr>\n    <tr>\n      <th>4</th>\n      <td>Angola</td>\n      <td>AO</td>\n      <td>5114</td>\n      <td>2082</td>\n      <td>0</td>\n      <td>185</td>\n      <td>0</td>\n      <td>0</td>\n      <td>0</td>\n      <td>2847</td>\n      <td>12</td>\n      <td>7</td>\n    </tr>\n    <tr>\n      <th>5</th>\n      <td>Argentina</td>\n      <td>AR</td>\n      <td>765002</td>\n      <td>603140</td>\n      <td>0</td>\n      <td>20288</td>\n      <td>0</td>\n      <td>0</td>\n      <td>0</td>\n      <td>141574</td>\n      <td>19</td>\n      <td>14</td>\n    </tr>\n    <tr>\n      <th>...</th>\n      <td>...</td>\n      <td>...</td>\n      <td>...</td>\n      <td>...</td>\n      <td>...</td>\n      <td>...</td>\n      <td>...</td>\n      <td>...</td>\n      <td>...</td>\n      <td>...</td>\n      <td>...</td>\n      <td>...</td>\n    </tr>\n    <tr>\n      <th>178</th>\n      <td>Iran</td>\n      <td>IR</td>\n      <td>464596</td>\n      <td>385264</td>\n      <td>0</td>\n      <td>26567</td>\n      <td>3552</td>\n      <td>187</td>\n      <td>1896</td>\n      <td>52765</td>\n      <td>18</td>\n      <td>14</td>\n    </tr>\n    <tr>\n      <th>179</th>\n      <td>North Korea</td>\n      <td>KP</td>\n      <td>0</td>\n      <td>0</td>\n      <td>0</td>\n      <td>0</td>\n      <td>0</td>\n      <td>0</td>\n      <td>0</td>\n      <td>0</td>\n      <td>0</td>\n      <td>0</td>\n    </tr>\n    <tr>\n      <th>180</th>\n      <td>Russia</td>\n      <td>RU</td>\n      <td>1194643</td>\n      <td>970296</td>\n      <td>0</td>\n      <td>21077</td>\n      <td>9412</td>\n      <td>186</td>\n      <td>6054</td>\n      <td>203270</td>\n      <td>20</td>\n      <td>14</td>\n    </tr>\n    <tr>\n      <th>181</th>\n      <td>United Arab Emirates</td>\n      <td>AE</td>\n      <td>96529</td>\n      <td>86071</td>\n      <td>0</td>\n      <td>424</td>\n      <td>1181</td>\n      <td>3</td>\n      <td>1168</td>\n      <td>10034</td>\n      <td>16</td>\n      <td>8</td>\n    </tr>\n    <tr>\n      <th>182</th>\n      <td>Vietnam</td>\n      <td>VN</td>\n      <td>1095</td>\n      <td>1020</td>\n      <td>0</td>\n      <td>35</td>\n      <td>0</td>\n      <td>0</td>\n      <td>10</td>\n      <td>40</td>\n      <td>10</td>\n      <td>5</td>\n    </tr>\n  </tbody>\n</table>\n<p>182 rows × 12 columns</p>\n</div>"
     },
     "execution_count": 9,
     "metadata": {},
     "output_type": "execute_result"
    }
   ],
   "source": [
    "df = add_log(df, 'total_cases')\n",
    "df = add_log(df, 'total_deaths')\n",
    "\n",
    "df"
   ],
   "metadata": {
    "collapsed": false,
    "pycharm": {
     "name": "#%%\n"
    }
   }
  },
  {
   "cell_type": "code",
   "execution_count": 10,
   "outputs": [
    {
     "ename": "NameError",
     "evalue": "name 'folium' is not defined",
     "output_type": "error",
     "traceback": [
      "\u001B[0;31m---------------------------------------------------------------------------\u001B[0m",
      "\u001B[0;31mNameError\u001B[0m                                 Traceback (most recent call last)",
      "\u001B[0;32m<ipython-input-10-88271238412a>\u001B[0m in \u001B[0;36m<module>\u001B[0;34m\u001B[0m\n\u001B[0;32m----> 1\u001B[0;31m \u001B[0mm\u001B[0m \u001B[0;34m=\u001B[0m \u001B[0mplot_map\u001B[0m\u001B[0;34m(\u001B[0m\u001B[0;34m\"Death\"\u001B[0m\u001B[0;34m,\u001B[0m \u001B[0mdf\u001B[0m\u001B[0;34m,\u001B[0m \u001B[0;34m\"total_deaths\"\u001B[0m\u001B[0;34m)\u001B[0m\u001B[0;34m\u001B[0m\u001B[0;34m\u001B[0m\u001B[0m\n\u001B[0m\u001B[1;32m      2\u001B[0m \u001B[0mm\u001B[0m\u001B[0;34m\u001B[0m\u001B[0;34m\u001B[0m\u001B[0m\n\u001B[1;32m      3\u001B[0m \u001B[0;34m\u001B[0m\u001B[0m\n",
      "\u001B[0;32m~/Desktop/cm/cloudmesh-covid/cloudmesh/covid/data/world.py\u001B[0m in \u001B[0;36mplot_map\u001B[0;34m(title, data, col)\u001B[0m\n\u001B[1;32m     49\u001B[0m \u001B[0;32mdef\u001B[0m \u001B[0mplot_map\u001B[0m\u001B[0;34m(\u001B[0m\u001B[0mtitle\u001B[0m\u001B[0;34m,\u001B[0m \u001B[0mdata\u001B[0m\u001B[0;34m,\u001B[0m \u001B[0mcol\u001B[0m\u001B[0;34m)\u001B[0m\u001B[0;34m:\u001B[0m\u001B[0;34m\u001B[0m\u001B[0;34m\u001B[0m\u001B[0m\n\u001B[1;32m     50\u001B[0m   \u001B[0;31m# we ignore the title for now\u001B[0m\u001B[0;34m\u001B[0m\u001B[0;34m\u001B[0m\u001B[0;34m\u001B[0m\u001B[0m\n\u001B[0;32m---> 51\u001B[0;31m   \u001B[0mm\u001B[0m \u001B[0;34m=\u001B[0m \u001B[0mfolium\u001B[0m\u001B[0;34m.\u001B[0m\u001B[0mMap\u001B[0m\u001B[0;34m(\u001B[0m\u001B[0;34m)\u001B[0m\u001B[0;34m\u001B[0m\u001B[0;34m\u001B[0m\u001B[0m\n\u001B[0m\u001B[1;32m     52\u001B[0m   \u001B[0;31m#Adding the Choropleth layer onto our base map\u001B[0m\u001B[0;34m\u001B[0m\u001B[0;34m\u001B[0m\u001B[0;34m\u001B[0m\u001B[0m\n\u001B[1;32m     53\u001B[0m   folium.Choropleth(\n",
      "\u001B[0;31mNameError\u001B[0m: name 'folium' is not defined"
     ]
    }
   ],
   "source": [
    "m = plot_map(\"Death\", df, \"total_deaths\")\n",
    "m"
   ],
   "metadata": {
    "collapsed": false,
    "pycharm": {
     "name": "#%%\n"
    }
   }
  },
  {
   "cell_type": "code",
   "execution_count": null,
   "outputs": [],
   "source": [
    "m = plot_map(\"Log Death\", df, \"log_total_deaths\")\n",
    "m"
   ],
   "metadata": {
    "collapsed": false,
    "pycharm": {
     "name": "#%%\n"
    }
   }
  },
  {
   "cell_type": "code",
   "execution_count": null,
   "outputs": [],
   "source": [
    "m = plot_map(\"Cases\", df, \"total_cases\")\n",
    "m"
   ],
   "metadata": {
    "collapsed": false,
    "pycharm": {
     "name": "#%%\n"
    }
   }
  },
  {
   "cell_type": "code",
   "execution_count": null,
   "outputs": [],
   "source": [],
   "metadata": {
    "collapsed": false,
    "pycharm": {
     "name": "#%%\n"
    }
   }
  },
  {
   "cell_type": "code",
   "execution_count": null,
   "outputs": [],
   "source": [
    "m = plot_map(\"Log Cases\", df, \"log_total_cases\")\n",
    "m"
   ],
   "metadata": {
    "collapsed": false,
    "pycharm": {
     "name": "#%%\n"
    }
   }
  },
  {
   "cell_type": "code",
   "metadata": {
    "id": "AIWDCk9h9i8M",
    "outputId": "136ac885-de73-4c19-ebc0-11857c627b6d",
    "colab": {
     "base_uri": "https://localhost:8080/",
     "height": 424
    },
    "pycharm": {
     "name": "#%%\n"
    }
   },
   "source": [
    "m = plot_map(\"Log Cases\", df, \"log_total_cases\")\n",
    "m\n"
   ],
   "execution_count": null,
   "outputs": []
  }
 ]
}